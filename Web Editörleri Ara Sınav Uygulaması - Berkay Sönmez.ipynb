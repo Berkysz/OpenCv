
  },
  {
   "cell_type": "markdown",
   "id": "a90db1ba-6346-456c-b18f-a494c03a7eef",
   "metadata": {},
   "source": [
    "# Computer Vision\n",
    "\n",
    "Bilgisayarın dijital görüntülerden dünyayı tanımlamaya çalışmasıdır kısaca bir görüntüden bilgi çıkarma işlemidir. Örneğin nesne tanımlama, yüz tanımlama gibi sistemleri içerir."
   ]
  },
  {
   "cell_type": "markdown",
   "id": "ebfa1415-77ef-4991-9a36-5cfa1cb92932",
   "metadata": {},
   "source": [
    "### OpenCv Kütüphanesi Kullanımı\n",
    "OpenCv kütüphanesi kullanarak aşağıdaki işlemler yapılabilir:\n",
    "\n",
    "1- Temel Görüntü İşleme Operasyonları: OpenCV ile görüntüler üzerinde yapabileceğiniz temel işlemler arasında yeniden boyutlandırma, döndürme, kesme, dönüştürme, bulanıklık ekleme, keskinleştirme, histogram eşitleme vb. bulunur.\n",
    "\n",
    "2- Görüntü Filtreleme: OpenCV, bir görüntüdeki gürültüyü azaltmak, kenarları belirlemek, görüntüyü iyileştirmek ve daha fazlasını yapmak için bir dizi filtreleme yöntemi sunar. Örnekler arasında Gaussian bulanıklık, medyan bulanıklık, Sobel kenar tespiti vb. yer alır.\n",
    "\n",
    "3- Nesne Tanıma ve Algılama: OpenCV, nesne tanıma ve algılama için bir dizi algoritma ve model sağlar. Bunlar arasında yüz tanıma, nesne algılama, nesne takibi, insansız hava araçları (UAV) için yer tespiti vb. bulunur.\n",
    "\n",
    "4-Kamera ve Video İşleme: OpenCV, kamera akışı yakalama, video dosyalarını işleme, canlı video işleme ve daha fazlası için bir arayüz sağlar.\n",
    "\n",
    "5-İşaretleme ve Segmentasyon: OpenCV, görüntülerdeki nesneleri işaretlemek ve segmente etmek için bir dizi yöntem sunar. Bu, medikal görüntüleme, nesne sayma ve daha fazlası için önemlidir."
   ]
  },
  {
   "cell_type": "markdown",
   "id": "bf8597a7-af19-4875-9ea5-9fb77b63b804",
   "metadata": {},
   "source": [
    "### 0- Kütüphanenin kurulumu"
   ]
  },
  {
   "cell_type": "code",
   "execution_count": null,
   "id": "e8300d50-497c-42e1-ac2b-cc458bffa579",
   "metadata": {},
   "outputs": [],
   "source": [
    "pip install opencv-python\n",
    "\n",
    "import cv2"
   ]
  },
  {
   "cell_type": "markdown",
   "id": "3a012d5b-7d9d-4b64-82fd-0539628cd9ab",
   "metadata": {},
   "source": [
    "### 1- Temel Görüntü İşleme Komutları\n"
   ]
  },
  {
   "cell_type": "code",
   "execution_count": null,
   "id": "16af5290-9980-42ea-86f9-c4266926ae24",
   "metadata": {},
   "outputs": [],
   "source": [
    "# Yukarıya yazdığınız işlem listesini teker teker örnek kodlarla ve kodlara yapacağınız açıklamalarla anlatınız.\n",
    "\n",
    "import cv2\n",
    "\n",
    "# Görüntüyü yükle\n",
    "image = cv2.imread('resim.jpg')\n",
    "\n",
    "# Yeniden boyutlandırma işlemi\n",
    "resized_image = cv2.resize(image, (500, 300))  # Genişlik: 500 piksel, Yükseklik: 300 piksel\n",
    "\n",
    "# Gri tonda görüntü elde etme\n",
    "gray_image = cv2.cvtColor(image, cv2.COLOR_BGR2GRAY)\n",
    "\n",
    "# Görüntüyü bulanıklaştırma\n",
    "blurred_image = cv2.GaussianBlur(image, (15, 15), 0)\n",
    "\n",
    "# Kenarları tespit etme\n",
    "edges = cv2.Canny(blurred_image, 100, 200)\n",
    "\n",
    "# Görüntüye dikdörtgen çizme\n",
    "for contour in contours:\n",
    "    x, y, w, h = cv2.boundingRect(contour)\n",
    "    cv2.rectangle(image, (x, y), (x + w, y + h), (0, 255, 0), 2)\n",
    "\n",
    "# Görüntüye daire çizme\n",
    "cv2.circle(image, (300, 300), 50, (255, 0, 0), -1)\n",
    "\n",
    "# Bulanıklaştırılmış görüntüyü göster\n",
    "cv2.imshow('Bulanik Resim', blurred_image)\n",
    "\n",
    "# Kenarları göster\n",
    "cv2.imshow('kenar', edges)\n",
    "\n",
    "cv2.waitKey(0)  # Kullanıcı bir tuşa basana kadar bekleyin\n",
    "cv2.destroyAllWindows()  # Tüm pencereleri kapat\n",
    "\n"
   ]
  },
  {
   "cell_type": "markdown",
   "id": "474f1e1f-1f51-4097-b13b-2997d2f13464",
   "metadata": {},
   "source": [
    "### 2- Görüntü Filtreleme"
   ]
  },
  {
   "cell_type": "code",
   "execution_count": null,
   "id": "3be2c9b7-6708-4de3-9ab5-215ce741fef0",
   "metadata": {},
   "outputs": [],
   "source": [
    "#Resmi blurlama işlemi\n",
    "blurred_image = cv2.GaussianBlur(image, (ksize, ksize), sigmaX)\n",
    "\n",
    "#Kenarları Belirginleştirme\n",
    "Kenarlar = cv2.Canny(image, threshold1, threshold2)\n",
    "\n",
    "#Laplacian Kenar Algılama\n",
    "laplacian = cv2.Laplacian(image, ddepth)\n",
    "\n",
    "#Sobel Kenar Algılama\n",
    "sobelx = cv2.Sobel(image, ddepth, dx, dy)\n",
    "sobely = cv2.Sobel(image, ddepth, dx, dy)\n",
    "\n",
    "#Bilateral Filtreleme:\n",
    "filtered_image = cv2.bilateralFilter(image, d, sigmaColor, sigmaSpace)\n"
   ]
  },
  {
   "cell_type": "markdown",
   "id": "1384bf1c-b05d-4ff2-a44b-0740b99eba31",
   "metadata": {},
   "source": [
    "### 3- Nesne Tanıma ve Algılama"
   ]
  },
  {
   "cell_type": "code",
   "execution_count": null,
   "id": "b265a851-406a-49c5-af2f-3e8cfaf6087f",
   "metadata": {},
   "outputs": [],
   "source": [
    "#Yüzleri algılamak için bir Haar Cascade sınıflandırıcını kullanır.\n",
    "face_cascade = cv2.CascadeClassifier('haarcascade_frontalface_default.xml')\n",
    "#Gri tonlamalı görüntü üzerinde yüzleri algılar\n",
    "faces = face_cascade.detectMultiScale(gray, scaleFactor=1.3, minNeighbors=5)\n",
    "\n",
    "\n",
    "\n",
    "#YOLO nesne algılama modelini yükler ve sınıfların listesini ve çıkış katmanlarının adlarını alır.\n",
    "net = cv2.dnn.readNet('yolov3.weights', 'yolov3.cfg')\n",
    "with open('coco.names', 'r') as f:\n",
    "    classes = f.read().strip().split('\\n')\n",
    "layer_names = net.getLayerNames()\n",
    "output_layers = [layer_names[i[0] - 1] for i in net.getUnconnectedOutLayers()]\n",
    "\n",
    "\n",
    "#HOG tabanlı bir nesne algılama modelini yükler. Bu model, genellikle insanları algılamak için kullanılır.\n",
    "hog = cv2.HOGDescriptor()\n",
    "hog.setSVMDetector(cv2.HOGDescriptor_getDefaultPeopleDetector())\n",
    "\n"
   ]
  },
  {
   "cell_type": "markdown",
   "id": "c876b55e",
   "metadata": {},
   "source": [
    "# 4- Kamera ve Video İşleme"
   ]
  },
  {
   "cell_type": "code",
   "execution_count": null,
   "id": "0d49316d",
   "metadata": {},
   "outputs": [],
   "source": [
    "#Kamera Akışını Yakalama\n",
    "cap = cv2.VideoCapture(0)\n",
    "\n",
    "#Video Dosyasını Oynatma\n",
    "cap = cv2.VideoCapture('video.mp4')\n",
    "\n",
    "#Video çevrelerini okuma\n",
    "ret, frame = cap.read()\n",
    "\n",
    "#Klavye Girişini Yakalama\n",
    "key = cv2.waitKey(1) & 0xFF\n",
    "\n",
    "#Video Kaydetme\n",
    "out = cv2.VideoWriter('output.avi', cv2.VideoWriter_fourcc(*'XVID'), 20.0, (640, 480))\n",
    "out.write(frame)\n",
    "\n",
    "#Kamera veya Video Akışını Serbest Bırakma:\n",
    "cap.release()\n",
    "\n",
    "#Tüm Pencereleri Kapatma\n",
    "cv2.destroyAllWindows()\n"
   ]
  },
  {
   "cell_type": "markdown",
   "id": "242d51e9",
   "metadata": {},
   "source": [
    "# 5-İşaretleme ve Segmentasyon:"
   ]
  },
  {
   "cell_type": "code",
   "execution_count": null,
   "id": "e5a74b57",
   "metadata": {},
   "outputs": [],
   "source": [
    "#Dikdörtgen Çizme\n",
    "cv2.rectangle(image, (x1, y1), (x2, y2), (0, 255, 0), 2)\n",
    "\n",
    "#Daire Çizme\n",
    "cv2.circle(image, (x, y), radius, (0, 0, 255), -1)\n",
    "\n",
    "#Cizgi çekme\n",
    "cv2.line(image, (x1, y1), (x2, y2), (b, g, r), thickness)\n",
    "\n",
    "#Metin Ekleme\n",
    "cv2.putText(image, 'Metin Ekleme', (x, y), cv2.FONT_HERSHEY_SIMPLEX, 1, (255, 255, 255), 2)\n",
    "\n",
    "#Segmentasyon ile Dolgu Alanı Bulma\n",
    "cv2.fillPoly(image, [contours], (0, 0, 255))\n",
    "\n",
    "\n"
   ]
  },
  {
   "cell_type": "code",
   "execution_count": null,
   "id": "1f8e4f00-3502-461b-aadf-2b4f2b72b9d7",
   "metadata": {},
   "outputs": [],
   "source": []
  },
  {
   "cell_type": "code",
   "execution_count": null,
   "id": "cdd6cedb-70b0-4b92-bb7e-406f08523a2e",
   "metadata": {},
   "outputs": [],
   "source": []
  },
  {
   "cell_type": "code",
   "execution_count": null,
   "id": "5cc6ca5b-4cdb-4c00-bb8f-4f372fe40855",
   "metadata": {},
   "outputs": [],
   "source": []
  },
  {
   "cell_type": "code",
   "execution_count": null,
   "id": "1b421299-93ba-4bd3-b834-9b7e6a312c1e",
   "metadata": {},
   "outputs": [],
   "source": []
  },
  {
   "cell_type": "code",
   "execution_count": null,
   "id": "780699fa-ba1e-4afe-98ed-cca0059e16de",
   "metadata": {},
   "outputs": [],
   "source": []
  },
  {
   "cell_type": "code",
   "execution_count": null,
   "id": "f4392b19-df68-4bf0-8974-6baead62cb74",
   "metadata": {},
   "outputs": [],
   "source": []
  },
  {
   "cell_type": "code",
   "execution_count": null,
   "id": "42a66bc3-468c-44c7-ace2-f83b2d611b61",
   "metadata": {},
   "outputs": [],
   "source": []
  },
  {
   "cell_type": "code",
   "execution_count": null,
   "id": "39071b4b-7e50-4920-945c-8af91e227959",
   "metadata": {},
   "outputs": [],
   "source": []
  },
  {
   "cell_type": "code",
   "execution_count": null,
   "id": "947cfdb4-7757-408b-a599-bf40a73330b4",
   "metadata": {},
   "outputs": [],
   "source": []
  },
  {
   "cell_type": "code",
   "execution_count": null,
   "id": "fffc23d4-6bc7-412e-b776-cde8891ec8a7",
   "metadata": {},
   "outputs": [],
   "source": []
  }
 ],
 "metadata": {
  "kernelspec": {
   "display_name": "Python 3 (ipykernel)",
   "language": "python",
   "name": "python3"
  },
  "language_info": {
   "codemirror_mode": {
    "name": "ipython",
    "version": 3
   },
   "file_extension": ".py",
   "mimetype": "text/x-python",
   "name": "python",
   "nbconvert_exporter": "python",
   "pygments_lexer": "ipython3",
   "version": "3.11.5"
  }
 },
 "nbformat": 4,
 "nbformat_minor": 5
}
